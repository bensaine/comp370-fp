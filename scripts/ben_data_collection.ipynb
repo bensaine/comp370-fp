{
 "cells": [
  {
   "cell_type": "code",
   "execution_count": 10,
   "metadata": {},
   "outputs": [],
   "source": [
    "import pandas as pd\n",
    "from dotenv import load_dotenv\n",
    "load_dotenv()\n",
    "import os\n",
    "import requests\n",
    "import json\n",
    "from query_articles import query_articles"
   ]
  },
  {
   "cell_type": "code",
   "execution_count": 11,
   "metadata": {},
   "outputs": [],
   "source": [
    "API_KEY = os.getenv(\"NEWS_API_KEY\")"
   ]
  },
  {
   "cell_type": "code",
   "execution_count": 15,
   "metadata": {},
   "outputs": [],
   "source": [
    "def get_sources_id_by_country(country):\n",
    "    url = \"https://newsapi.org/v2/sources\"\n",
    "    response = requests.get(url, params={\"apiKey\": API_KEY, \"country\": country})\n",
    "    response.raise_for_status()\n",
    "    sources = response.json()[\"sources\"]\n",
    "    return [source[\"id\"] for source in sources]"
   ]
  },
  {
   "cell_type": "code",
   "execution_count": null,
   "metadata": {},
   "outputs": [
    {
     "name": "stdout",
     "output_type": "stream",
     "text": [
      "Found 60 sources\n",
      "Querying for sources: ['abc-news', 'al-jazeera-english', 'ars-technica', 'associated-press', 'axios', 'bleacher-report', 'bloomberg', 'breitbart-news', 'business-insider', 'buzzfeed', 'cbs-news', 'cnn', 'cnn-es', 'crypto-coins-news', 'engadget', 'entertainment-weekly', 'espn', 'espn-cric-info', 'fortune', 'fox-news']\n"
     ]
    }
   ],
   "source": [
    "#query = \"Elon Musk AND (trump OR harris OR politics OR political OR election OR PAC OR endorse OR endorsement OR free speech OR censorship OR vote OR tarrifs OR tarrif OR efficiency)\"\n",
    "query = \"Elon Musk\"\n",
    "us_sources = get_sources_id_by_country(\"us\")\n",
    "ca_sources = get_sources_id_by_country(\"ca\")\n",
    "all_sources = us_sources + ca_sources\n",
    "print(f\"Found {len(all_sources)} sources\")\n",
    "\n",
    "all_articles = pd.DataFrame()\n",
    "for source_index in range(0, len(all_sources), 20):\n",
    "    source_batch = all_sources[source_index:source_index+20]\n",
    "    print(f\"Querying for sources: {source_batch}\")\n",
    "    articles = query_articles(query, API_KEY, sort_by=\"popularity\", nb_pages=5, sources=\",\".join(source_batch))\n",
    "    print(f\"Query returned {articles.shape[0]} articles\")\n",
    "    all_articles = pd.concat([all_articles, articles], ignore_index=True)\n",
    "\n",
    "print(f\"Total query returned {all_articles.shape[0]} articles\")\n",
    "articles = articles.drop_duplicates()\n",
    "articles = articles[articles[\"source\"] != \"[Removed]\"]\n",
    "articles = articles.reset_index(drop=True)\n",
    "\n",
    "print(f\"Cleaning left {articles.shape[0]} articles\")\n",
    "print(f\"Articles from the following sources were found: {articles['source'].unique()}\")\n",
    "print(f\"Here are the first 5 articles:\")\n",
    "\n",
    "# DF to csv\n",
    "articles = articles.drop(columns=[\"index\", \"content\", \"url\", \"urlToImage\", \"publishedAt\"])\n",
    "articles.to_csv(\"articles.csv\", index=False)\n",
    "print(articles[\"title\"].head())"
   ]
  }
 ],
 "metadata": {
  "kernelspec": {
   "display_name": "base",
   "language": "python",
   "name": "python3"
  },
  "language_info": {
   "codemirror_mode": {
    "name": "ipython",
    "version": 3
   },
   "file_extension": ".py",
   "mimetype": "text/x-python",
   "name": "python",
   "nbconvert_exporter": "python",
   "pygments_lexer": "ipython3",
   "version": "3.11.7"
  }
 },
 "nbformat": 4,
 "nbformat_minor": 2
}
