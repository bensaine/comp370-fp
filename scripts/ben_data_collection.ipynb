{
 "cells": [
  {
   "cell_type": "code",
   "execution_count": 1,
   "metadata": {},
   "outputs": [],
   "source": [
    "# %pip install pandas\n",
    "# %pip install requests\n",
    "# %pip install python-dotenv\n",
    "import pandas as pd\n",
    "from dotenv import load_dotenv\n",
    "load_dotenv()\n",
    "import os\n",
    "import requests\n",
    "from time import sleep\n",
    "import json\n",
    "from query_articles import query_articles"
   ]
  },
  {
   "cell_type": "code",
   "execution_count": 2,
   "metadata": {},
   "outputs": [],
   "source": [
    "API_KEY = os.getenv(\"NEWS_API_KEY\")"
   ]
  },
  {
   "cell_type": "code",
   "execution_count": null,
   "metadata": {},
   "outputs": [],
   "source": []
  },
  {
   "cell_type": "code",
   "execution_count": 3,
   "metadata": {},
   "outputs": [],
   "source": [
    "def get_sources_id_by_country(country):\n",
    "    url = \"https://newsapi.org/v2/sources\"\n",
    "    response = requests.get(url, params={\"apiKey\": API_KEY, \"country\": country})\n",
    "    response.raise_for_status()\n",
    "    sources = response.json()[\"sources\"]\n",
    "    return [source[\"id\"] for source in sources]\n",
    "\n",
    "usa_sources = get_sources_id_by_country('us')\n",
    "ca_sources = get_sources_id_by_country('ca')"
   ]
  },
  {
   "cell_type": "code",
   "execution_count": 4,
   "metadata": {},
   "outputs": [
    {
     "name": "stdout",
     "output_type": "stream",
     "text": [
      "['abc-news', 'al-jazeera-english', 'ars-technica', 'associated-press', 'axios', 'bleacher-report', 'bloomberg', 'breitbart-news', 'business-insider', 'buzzfeed', 'cbs-news', 'cnn', 'cnn-es', 'crypto-coins-news', 'engadget', 'entertainment-weekly', 'espn', 'espn-cric-info', 'fortune', 'fox-news', 'fox-sports', 'google-news', 'hacker-news', 'ign', 'mashable', 'medical-news-today', 'msnbc', 'mtv-news', 'national-geographic', 'national-review', 'nbc-news', 'new-scientist', 'newsweek', 'new-york-magazine', 'next-big-future', 'nfl-news', 'nhl-news', 'politico', 'polygon', 'recode', 'reddit-r-all', 'reuters', 'techcrunch', 'techradar', 'the-american-conservative', 'the-hill', 'the-huffington-post', 'the-next-web', 'the-verge', 'the-wall-street-journal', 'the-washington-post', 'the-washington-times', 'time', 'usa-today', 'vice-news', 'wired']\n",
      "\n",
      "['cbc-news', 'financial-post', 'google-news-ca', 'the-globe-and-mail']\n"
     ]
    }
   ],
   "source": [
    "print(usa_sources)\n",
    "print()\n",
    "print(ca_sources)"
   ]
  },
  {
   "cell_type": "code",
   "execution_count": 5,
   "metadata": {},
   "outputs": [],
   "source": [
    "all_north_american_sources = list(set(usa_sources + ca_sources))"
   ]
  },
  {
   "cell_type": "code",
   "execution_count": 6,
   "metadata": {},
   "outputs": [
    {
     "name": "stdout",
     "output_type": "stream",
     "text": [
      "['cnn', 'associated-press', 'ign', 'recode', 'reddit-r-all', 'newsweek', 'techradar', 'the-huffington-post', 'the-verge', 'financial-post', 'mashable', 'nbc-news', 'msnbc', 'the-washington-times', 'next-big-future', 'fox-news', 'crypto-coins-news', 'fortune', 'the-american-conservative', 'the-hill', 'national-geographic', 'espn-cric-info', 'espn', 'business-insider', 'nhl-news', 'reuters', 'hacker-news', 'politico', 'the-globe-and-mail', 'ars-technica', 'bloomberg', 'national-review', 'google-news-ca', 'bleacher-report', 'the-next-web', 'the-washington-post', 'medical-news-today', 'axios', 'abc-news', 'time', 'breitbart-news', 'entertainment-weekly', 'vice-news', 'engadget', 'fox-sports', 'polygon', 'mtv-news', 'usa-today', 'nfl-news', 'new-scientist', 'cnn-es', 'google-news', 'the-wall-street-journal', 'wired', 'al-jazeera-english', 'cbc-news', 'buzzfeed', 'new-york-magazine', 'techcrunch', 'cbs-news']\n"
     ]
    }
   ],
   "source": [
    "print(all_north_american_sources)"
   ]
  },
  {
   "cell_type": "code",
   "execution_count": null,
   "metadata": {},
   "outputs": [
    {
     "name": "stdout",
     "output_type": "stream",
     "text": [
      "left_wing: {'cnn', 'the-hill', 'the-huffington-post', 'msnbc', 'new-york-magazine'}\n",
      "right_wing: {'national-review', 'breitbart-news', 'the-washington-times', 'fox-news', 'the-american-conservative'}\n",
      "center: {'associated-press', 'usa-today', 'the-wall-street-journal', 'cbc-news', 'reuters'}\n"
     ]
    }
   ],
   "source": [
    "news_sources = { # according to chatgpt\n",
    "    \"left_wing\": [\n",
    "        \"cnn\",\n",
    "        \"msnbc\",\n",
    "        \"the-huffington-post\",\n",
    "        \"the-hill\",\n",
    "        \"new-york-magazine\"\n",
    "    ],\n",
    "    \"right_wing\": [\n",
    "        \"fox-news\",\n",
    "        \"the-washington-times\",\n",
    "        \"the-american-conservative\",\n",
    "        \"national-review\",\n",
    "        \"breitbart-news\"\n",
    "    ],\n",
    "    \"center\": [\n",
    "        \"reuters\",\n",
    "        \"associated-press\",\n",
    "        \"usa-today\",\n",
    "        \"the-wall-street-journal\",\n",
    "        \"cbc-news\"\n",
    "    ],\n",
    "    # \"neutral/apolitical\": [bleacher-report,techradar,nfl-news,nhl-news,espn,espn-cric-info,entertainment-weekly,mashable,hacker-news,business-insider,engadget,next-big-future,polygon,ars-technica,mtv-news,crypto-coins-news,techcrunch,the-verge,recode,medical-news-today,new-scientist,ign \\]\n",
    "}\n",
    "\n",
    "for x_wing in news_sources:\n",
    "    print(f'{x_wing}: {set(all_north_american_sources).intersection(news_sources[x_wing])}')\n"
   ]
  },
  {
   "cell_type": "code",
   "execution_count": null,
   "metadata": {},
   "outputs": [
    {
     "name": "stdout",
     "output_type": "stream",
     "text": [
      "   index                           author  \\\n",
      "0      0                   Scott Thompson   \n",
      "1      1        Amaris Encinas, USA TODAY   \n",
      "2      2                  Caroline Thayer   \n",
      "3      3  jhart@insider.com (Jordan Hart)   \n",
      "4      4         Lucas Nolan, Lucas Nolan   \n",
      "\n",
      "                                               title  \\\n",
      "0  Donald Trump’s granddaughter, budding golf sta...   \n",
      "1  People react to Vanity Fair cover of Donald Tr...   \n",
      "2  Kamala Harris supporter Sally Field trashes ca...   \n",
      "3  Apple's Tim Cook is going to have a headache o...   \n",
      "4  Big Tech Leaders Congratulate President-Elect ...   \n",
      "\n",
      "                                         description  \\\n",
      "0  Kai Trump, the granddaughter of President-elec...   \n",
      "1  Vanity Fair's Wednesday cover of Donald Trump ...   \n",
      "2  Sally Field was spotted throwing out signs sup...   \n",
      "3  Apple's Tim Cook must navigate potential cost ...   \n",
      "4  In the wake of Donald Trump's victory in the 2...   \n",
      "\n",
      "                                                 url  \\\n",
      "0  https://www.foxnews.com/sports/donald-trumps-g...   \n",
      "1  https://www.usatoday.com/story/news/politics/e...   \n",
      "2  https://www.foxnews.com/entertainment/kamala-h...   \n",
      "3  https://www.businessinsider.com/donald-trump-c...   \n",
      "4  https://www.breitbart.com/tech/2024/11/07/big-...   \n",
      "\n",
      "                                          urlToImage           publishedAt  \\\n",
      "0  https://static.foxnews.com/foxnews.com/content...  2024-11-07T23:51:25Z   \n",
      "1  https://s.yimg.com/ny/api/res/1.2/UkXBxikIVgwx...  2024-11-07T21:01:07Z   \n",
      "2  https://static.foxnews.com/foxnews.com/content...  2024-11-07T20:36:58Z   \n",
      "3  https://i.insider.com/672d050e5ec9bfa3d63c6433...  2024-11-07T20:05:58Z   \n",
      "4  https://media.breitbart.com/media/2024/11/Dona...  2024-11-07T19:43:38Z   \n",
      "\n",
      "                                             content       source_name  \\\n",
      "0  Kai Trump, the granddaughter of President-elec...          Fox News   \n",
      "1  The most recent Vanity Fair issue has sparked ...         USA Today   \n",
      "2  Sally Field did not get what she wanted for he...          Fox News   \n",
      "3  Apple got a break the last time Donald Trump w...  Business Insider   \n",
      "4  In the wake of Donald Trump’s victory in the 2...    Breitbart News   \n",
      "\n",
      "          source_id  \n",
      "0          fox-news  \n",
      "1         usa-today  \n",
      "2          fox-news  \n",
      "3  business-insider  \n",
      "4    breitbart-news  \n",
      "115\n",
      "   index                            author  \\\n",
      "0      0                    Chris Pandolfo   \n",
      "1      1            Simon Kent, Simon Kent   \n",
      "2      2    Hannah Knudsen, Hannah Knudsen   \n",
      "3      3  pkafka@insider.com (Peter Kafka)   \n",
      "4      4  Nick Gilbertson, Nick Gilbertson   \n",
      "\n",
      "                                               title  \\\n",
      "0  Donald Trump Jr ally Sergio Gor offered top Wh...   \n",
      "1  London Mayor Sadiq Khan Accuses Donald Trump o...   \n",
      "2  Donald Trump Makes White House Senior Staff An...   \n",
      "3  Did you need another reminder that Donald Trum...   \n",
      "4  Donald Trump Meets with House Republicans on C...   \n",
      "\n",
      "                                         description  \\\n",
      "0  Sergio Gor, an associate of Donald Trump Jr., ...   \n",
      "1  Far-left Mayor of London Sadiq Khan has accuse...   \n",
      "2  President-elect Donald Trump announced members...   \n",
      "3  Twitter - and Elon Musk — are important for Tr...   \n",
      "4  President-elect Donald Trump met with House Re...   \n",
      "\n",
      "                                                 url  \\\n",
      "0  https://www.foxnews.com/politics/donald-trump-...   \n",
      "1  https://www.breitbart.com/europe/2024/11/14/lo...   \n",
      "2  https://www.breitbart.com/politics/2024/11/13/...   \n",
      "3  https://www.businessinsider.com/pete-hegseth-t...   \n",
      "4  https://www.breitbart.com/2024-election/2024/1...   \n",
      "\n",
      "                                          urlToImage           publishedAt  \\\n",
      "0  https://static.foxnews.com/foxnews.com/content...  2024-11-14T19:44:23Z   \n",
      "1  https://media.breitbart.com/media/2024/11/khan...  2024-11-14T12:32:56Z   \n",
      "2  https://media.breitbart.com/media/2024/11/Dona...  2024-11-13T19:15:56Z   \n",
      "3  https://i.insider.com/6734e38a192f525898582dbc...  2024-11-13T17:49:21Z   \n",
      "4  https://media.breitbart.com/media/2024/11/Dona...  2024-11-13T17:23:37Z   \n",
      "\n",
      "                                             content       source_name  \\\n",
      "0  One of Donald Trump Jr.'s allies and business ...          Fox News   \n",
      "1  Far-left Mayor of London Sadiq Khan has accuse...    Breitbart News   \n",
      "2  President-elect Donald Trump announced on Wedn...    Breitbart News   \n",
      "3  Earlier this week, I wondered how much Twitter...  Business Insider   \n",
      "4  WASHINGTON, DCPresident-elect Donald Trump met...    Breitbart News   \n",
      "\n",
      "          source_id  \n",
      "0          fox-news  \n",
      "1    breitbart-news  \n",
      "2    breitbart-news  \n",
      "3  business-insider  \n",
      "4    breitbart-news  \n",
      "50\n",
      "   index                                             author  \\\n",
      "0      0                     Hannah Knudsen, Hannah Knudsen   \n",
      "1      1  bsaacks@businessinsider.com (Bradley Saacks,Mi...   \n",
      "2      2                     Wendell Husebo, Wendell Husebo   \n",
      "3      3                                          Pete Syme   \n",
      "4      4                                     Fox News Staff   \n",
      "\n",
      "                                               title  \\\n",
      "0  Poll: Independents Tipped for Donald Trump ove...   \n",
      "1  Billionaire Citadel founder Ken Griffin's advi...   \n",
      "2  Donald Trump Thanks Matt Gaetz for His Efforts...   \n",
      "3  It looks like Donald Trump will get to fly on ...   \n",
      "4  SEAN HANNITY: Life, liberty and the pursuit of...   \n",
      "\n",
      "                                         description  \\\n",
      "0  Independents tipped for President-elect Donald...   \n",
      "1  Republican mega-donor Ken Griffin expressed hi...   \n",
      "2  President-elect Donald Trump thanked Matt Gaet...   \n",
      "3  Donald Trump renegotiated a deal with Boeing a...   \n",
      "4  Fox News host Sean Hannity says President-elec...   \n",
      "\n",
      "                                                 url  \\\n",
      "0  https://www.breitbart.com/politics/2024/11/21/...   \n",
      "1  https://www.businessinsider.com/ken-griffin-ad...   \n",
      "2  https://www.breitbart.com/2024-election/2024/1...   \n",
      "3  https://www.businessinsider.com/donald-trump-b...   \n",
      "4  https://www.foxnews.com/media/sean-hannity-lif...   \n",
      "\n",
      "                                          urlToImage           publishedAt  \\\n",
      "0  https://media.breitbart.com/media/2024/10/kama...  2024-11-21T19:22:58Z   \n",
      "1  https://i.insider.com/673f802aede4eeae3928d70c...  2024-11-21T18:49:22Z   \n",
      "2  https://media.breitbart.com/media/2024/11/Gett...  2024-11-21T18:30:38Z   \n",
      "3  https://i.insider.com/673dfaa2192f5258985990bf...  2024-11-21T13:35:16Z   \n",
      "4  https://static.foxnews.com/foxnews.com/content...  2024-11-21T02:51:21Z   \n",
      "\n",
      "                                             content       source_name  \\\n",
      "0  Independents tipped for President-elect Donald...    Breitbart News   \n",
      "1  Billionaire Citadel founder Ken Griffin is one...  Business Insider   \n",
      "2  President-elect Donald Trump thanked Matt Gaet...    Breitbart News   \n",
      "3  Donald Trump renegotiated the Next Air Force O...  Business Insider   \n",
      "4  Fox News host Sean Hannity reveals how Preside...          Fox News   \n",
      "\n",
      "          source_id  \n",
      "0    breitbart-news  \n",
      "1  business-insider  \n",
      "2    breitbart-news  \n",
      "3  business-insider  \n",
      "4          fox-news  \n",
      "33\n",
      "   index                                      author  \\\n",
      "0      0                                         NaN   \n",
      "1      1                      Neil Munro, Neil Munro   \n",
      "2      2              Hannah Knudsen, Hannah Knudsen   \n",
      "3      3                          Amy Furr, Amy Furr   \n",
      "4      4  ecrosbie@businessinsider.com (Eve Crosbie)   \n",
      "\n",
      "                                               title  \\\n",
      "0  Trudeau in Florida to meet with Donald Trump i...   \n",
      "1  Data: Migration Issues Flipped Swing Voters to...   \n",
      "2  WATCH -- Mar-a-Lago Thanksgiving: Donald Trump...   \n",
      "3  WATCH -- 'Funniest President Ever': Donald Tru...   \n",
      "4  Director Ridley Scott said Denzel Washington's...   \n",
      "\n",
      "                                         description  \\\n",
      "0  Prime Minister Justin Trudeau is in Palm Beach...   \n",
      "1  The damage done by President Joe Biden's migra...   \n",
      "2  President-elect Donald Trump, sitting with his...   \n",
      "3  President-elect Donald Trump (R) poked fun at ...   \n",
      "4  \"Gladiator II,\" which also stars Paul Mescal a...   \n",
      "\n",
      "                                                 url  \\\n",
      "0  https://www.cbc.ca/news/politics/trudeau-meets...   \n",
      "1  https://www.breitbart.com/2024-election/2024/1...   \n",
      "2  https://www.breitbart.com/politics/2024/11/29/...   \n",
      "3  https://www.breitbart.com/2024-election/2024/1...   \n",
      "4  https://www.businessinsider.com/gladiator-ii-r...   \n",
      "\n",
      "                                          urlToImage           publishedAt  \\\n",
      "0  https://i.cbc.ca/1.7397802.1732927057!/fileIma...  2024-11-29T22:17:54Z   \n",
      "1  https://media.breitbart.com/media/2024/11/AP24...  2024-11-29T21:13:51Z   \n",
      "2  https://media.breitbart.com/media/2024/11/Gett...  2024-11-29T18:48:14Z   \n",
      "3  https://media.breitbart.com/media/2024/11/Dona...  2024-11-29T16:55:02Z   \n",
      "4  https://i.insider.com/67488b12ede4eeae392a3fd6...  2024-11-29T09:34:15Z   \n",
      "\n",
      "                                             content       source_name  \\\n",
      "0  Prime Minister Justin Trudeau is in Palm Beach...          CBC News   \n",
      "1  The damage done by President Joe Biden’s migra...    Breitbart News   \n",
      "2  President-elect Donald Trump, sitting with his...    Breitbart News   \n",
      "3  President-elect Donald Trump (R) poked fun at ...    Breitbart News   \n",
      "4  Ridley Scott said he took inspiration from Pre...  Business Insider   \n",
      "\n",
      "          source_id  \n",
      "0          cbc-news  \n",
      "1    breitbart-news  \n",
      "2    breitbart-news  \n",
      "3    breitbart-news  \n",
      "4  business-insider  \n",
      "23\n"
     ]
    }
   ],
   "source": [
    "november_articles = {week: None for week in [1,2,3,4]}\n",
    "\n",
    "for week in november_articles:\n",
    "    november_articles[week] = pd.read_csv(f'../week{week}_nov_articles.csv')\n",
    "\n",
    "for week in november_articles:\n",
    "    # print(november_articles[week].head())\n",
    "    print(len(november_articles[week]))\n",
    "\n",
    "# first_half_nov_df = pd.read_csv('../trump_articles_round2_nov01-nov14.csv')\n",
    "# last_half_nov_df = pd.read_csv('../trump_articles_round2_nov15-dec01.csv')\n",
    "# apolitical_nov_df = pd.read_csv('../neutral_sources_trump_articles.csv')\n",
    "\n",
    "# print(first_half_nov_df.head())\n",
    "# print(last_half_nov_df.head())\n",
    "# print(apolitical_nov_df.head())"
   ]
  },
  {
   "cell_type": "code",
   "execution_count": 10,
   "metadata": {},
   "outputs": [
    {
     "name": "stdout",
     "output_type": "stream",
     "text": [
      "149\n",
      "45\n",
      "27\n"
     ]
    }
   ],
   "source": [
    "print(len(first_half_nov_df))\n",
    "print(len(last_half_nov_df))\n",
    "print(len(apolitical_nov_df))"
   ]
  },
  {
   "cell_type": "code",
   "execution_count": 8,
   "metadata": {},
   "outputs": [],
   "source": [
    "def get_sources_ids():\n",
    "    url = \"https://newsapi.org/v2/everything\"\n",
    "    response = requests.get(url, params={\"apiKey\": API_KEY, 'q': 'Trump'})\n",
    "    response.raise_for_status()\n",
    "    articles = response.json()[\"articles\"]\n",
    "    return [article['source'] for article in articles]"
   ]
  },
  {
   "cell_type": "code",
   "execution_count": 9,
   "metadata": {},
   "outputs": [],
   "source": [
    "sources = get_sources_ids()\n",
    "# df = pd.data"
   ]
  },
  {
   "cell_type": "code",
   "execution_count": 10,
   "metadata": {},
   "outputs": [
    {
     "name": "stdout",
     "output_type": "stream",
     "text": [
      "[{'id': 'wired', 'name': 'Wired'}, {'id': 'wired', 'name': 'Wired'}, {'id': 'wired', 'name': 'Wired'}, {'id': 'wired', 'name': 'Wired'}, {'id': None, 'name': '[Removed]'}, {'id': 'the-verge', 'name': 'The Verge'}, {'id': 'wired', 'name': 'Wired'}, {'id': 'wired', 'name': 'Wired'}, {'id': 'wired', 'name': 'Wired'}, {'id': 'wired', 'name': 'Wired'}, {'id': 'wired', 'name': 'Wired'}, {'id': 'wired', 'name': 'Wired'}, {'id': 'wired', 'name': 'Wired'}, {'id': 'wired', 'name': 'Wired'}, {'id': 'wired', 'name': 'Wired'}, {'id': 'the-verge', 'name': 'The Verge'}, {'id': 'the-verge', 'name': 'The Verge'}, {'id': 'wired', 'name': 'Wired'}, {'id': 'wired', 'name': 'Wired'}, {'id': 'wired', 'name': 'Wired'}, {'id': None, 'name': 'BBC News'}, {'id': None, 'name': 'Gizmodo.com'}, {'id': 'wired', 'name': 'Wired'}, {'id': 'wired', 'name': 'Wired'}, {'id': None, 'name': 'BBC News'}, {'id': None, 'name': 'BBC News'}, {'id': 'wired', 'name': 'Wired'}, {'id': None, 'name': 'Gizmodo.com'}, {'id': None, 'name': 'Gizmodo.com'}, {'id': None, 'name': 'BBC News'}, {'id': None, 'name': 'BBC News'}, {'id': None, 'name': 'BBC News'}, {'id': None, 'name': 'BBC News'}, {'id': None, 'name': 'BBC News'}, {'id': None, 'name': 'BBC News'}, {'id': None, 'name': 'BBC News'}, {'id': None, 'name': 'BBC News'}, {'id': None, 'name': 'BBC News'}, {'id': None, 'name': 'BBC News'}, {'id': None, 'name': 'BBC News'}, {'id': None, 'name': 'BBC News'}, {'id': None, 'name': 'BBC News'}, {'id': None, 'name': 'BBC News'}, {'id': None, 'name': 'Gizmodo.com'}, {'id': None, 'name': 'BBC News'}, {'id': None, 'name': 'BBC News'}, {'id': None, 'name': 'Gizmodo.com'}, {'id': None, 'name': 'BBC News'}, {'id': None, 'name': 'BBC News'}, {'id': None, 'name': 'Gizmodo.com'}, {'id': None, 'name': 'BBC News'}, {'id': None, 'name': 'BBC News'}, {'id': None, 'name': 'BBC News'}, {'id': 'wired', 'name': 'Wired'}, {'id': 'the-verge', 'name': 'The Verge'}, {'id': None, 'name': 'BBC News'}, {'id': 'the-verge', 'name': 'The Verge'}, {'id': 'the-verge', 'name': 'The Verge'}, {'id': 'wired', 'name': 'Wired'}, {'id': None, 'name': 'BBC News'}, {'id': None, 'name': 'BBC News'}, {'id': None, 'name': 'BBC News'}, {'id': None, 'name': 'BBC News'}, {'id': None, 'name': 'Gizmodo.com'}, {'id': None, 'name': 'BBC News'}, {'id': None, 'name': 'BBC News'}, {'id': None, 'name': 'Gizmodo.com'}, {'id': 'wired', 'name': 'Wired'}, {'id': 'wired', 'name': 'Wired'}, {'id': None, 'name': 'Gizmodo.com'}, {'id': None, 'name': 'BBC News'}, {'id': None, 'name': 'BBC News'}, {'id': None, 'name': 'BBC News'}, {'id': None, 'name': 'BBC News'}, {'id': None, 'name': '[Removed]'}, {'id': None, 'name': 'BBC News'}, {'id': 'business-insider', 'name': 'Business Insider'}, {'id': None, 'name': 'Gizmodo.com'}, {'id': None, 'name': 'BBC News'}, {'id': None, 'name': 'BBC News'}, {'id': None, 'name': 'Gizmodo.com'}, {'id': 'wired', 'name': 'Wired'}, {'id': None, 'name': 'NPR'}, {'id': None, 'name': 'Gizmodo.com'}, {'id': None, 'name': 'BBC News'}, {'id': 'business-insider', 'name': 'Business Insider'}, {'id': 'wired', 'name': 'Wired'}, {'id': None, 'name': 'BBC News'}, {'id': 'wired', 'name': 'Wired'}, {'id': None, 'name': 'BBC News'}, {'id': 'business-insider', 'name': 'Business Insider'}, {'id': None, 'name': 'Gizmodo.com'}, {'id': 'wired', 'name': 'Wired'}, {'id': None, 'name': '[Removed]'}, {'id': None, 'name': 'BBC News'}, {'id': 'the-verge', 'name': 'The Verge'}, {'id': None, 'name': 'Gizmodo.com'}, {'id': 'the-verge', 'name': 'The Verge'}, {'id': 'business-insider', 'name': 'Business Insider'}, {'id': None, 'name': 'BBC News'}]\n"
     ]
    }
   ],
   "source": [
    "print(sources)"
   ]
  },
  {
   "cell_type": "code",
   "execution_count": 11,
   "metadata": {},
   "outputs": [],
   "source": [
    "sources_df = pd.DataFrame(sources)"
   ]
  },
  {
   "cell_type": "code",
   "execution_count": 12,
   "metadata": {},
   "outputs": [
    {
     "name": "stdout",
     "output_type": "stream",
     "text": [
      "                  id              name\n",
      "0              wired             Wired\n",
      "1              wired             Wired\n",
      "2              wired             Wired\n",
      "3              wired             Wired\n",
      "4               None         [Removed]\n",
      "..               ...               ...\n",
      "95         the-verge         The Verge\n",
      "96              None       Gizmodo.com\n",
      "97         the-verge         The Verge\n",
      "98  business-insider  Business Insider\n",
      "99              None          BBC News\n",
      "\n",
      "[100 rows x 2 columns]\n"
     ]
    }
   ],
   "source": [
    "print(sources_df)"
   ]
  },
  {
   "cell_type": "code",
   "execution_count": 14,
   "metadata": {},
   "outputs": [
    {
     "name": "stdout",
     "output_type": "stream",
     "text": [
      "['Wired' '[Removed]' 'The Verge' 'BBC News' 'Gizmodo.com'\n",
      " 'Business Insider' 'NPR']\n"
     ]
    }
   ],
   "source": [
    "print(sources_df['name'].unique())"
   ]
  },
  {
   "cell_type": "code",
   "execution_count": 6,
   "metadata": {},
   "outputs": [],
   "source": [
    "# load sources\n",
    "sources = pd.read_csv(\"sources.csv\")\n",
    "# sources from us and ca\n",
    "sources = sources[sources[\"country\"].isin([\"us\", \"ca\"])]\n",
    "sources_id = sources[\"source_id\"].tolist()"
   ]
  },
  {
   "cell_type": "code",
   "execution_count": 7,
   "metadata": {},
   "outputs": [
    {
     "name": "stdout",
     "output_type": "stream",
     "text": [
      "           source_id  count country\n",
      "0           abc-news     13      us\n",
      "3     breitbart-news      3      us\n",
      "4   business-insider     19      us\n",
      "5           cbc-news      2      ca\n",
      "6           cbs-news      2      us\n",
      "7                cnn      2      us\n",
      "8            fortune     14      us\n",
      "10             msnbc      4      us\n",
      "11          nbc-news      5      us\n",
      "12          newsweek     16      us\n",
      "16         the-verge      1      us\n",
      "17              time      1      us\n",
      "18         usa-today      1      us\n",
      "19             wired      3      us\n"
     ]
    }
   ],
   "source": [
    "print(sources)"
   ]
  },
  {
   "cell_type": "code",
   "execution_count": 7,
   "metadata": {},
   "outputs": [
    {
     "name": "stdout",
     "output_type": "stream",
     "text": [
      "Total query returned 603 articles\n",
      "Cleaning left 603 articles\n",
      "Articles from the following sources were found: ['wired' 'business-insider' 'time' 'abc-news' 'cbc-news' 'cbs-news'\n",
      " 'msnbc' 'usa-today' 'breitbart-news' 'the-verge' 'newsweek' 'fortune'\n",
      " 'nbc-news' 'cnn']\n",
      "Here are the first 5 articles:\n",
      "0    Far-Right Donald Trump Supporters Celebrate Hi...\n",
      "1    ICE Started Ramping Up Its Surveillance Arsena...\n",
      "2    Did you need another reminder that Donald Trum...\n",
      "3    Joe Rogan endorsed Donald Trump, saying Elon M...\n",
      "4    How the US voted in every election, from Georg...\n",
      "Name: title, dtype: object\n"
     ]
    }
   ],
   "source": [
    "query = \"Donald Trump\"\n",
    "\n",
    "articles_first = query_articles(query, API_KEY, sort_by=\"popularity\", nb_pages=5, sources=\",\".join(sources_id), from_date=\"2024-10-29\", to_date=\"2024-11-15\")\n",
    "sleep(15)\n",
    "articles_second = query_articles(query, API_KEY, sort_by=\"popularity\", nb_pages=5, sources=\",\".join(sources_id), from_date=\"2024-11-16\", to_date=\"2024-11-30\")\n",
    "articles = pd.concat([articles_first, articles_second])\n",
    "\n",
    "print(f\"Total query returned {articles.shape[0]} articles\")\n",
    "articles = articles.drop_duplicates()\n",
    "articles = articles[articles[\"source_name\"] != \"[Removed]\"]\n",
    "articles = articles.reset_index(drop=True)\n",
    "\n",
    "print(f\"Cleaning left {articles.shape[0]} articles\")\n",
    "print(f\"Articles from the following sources were found: {articles['source_id'].unique()}\")\n",
    "print(f\"Here are the first 5 articles:\")\n",
    "\n",
    "# DF to csv\n",
    "articles.to_csv(\"articles_raw.csv\", index=False)\n",
    "articles = articles.drop(columns=[\"index\", \"content\", \"url\", \"urlToImage\", \"publishedAt\"])\n",
    "# first 500 articles\n",
    "articles = articles.iloc[:500]\n",
    "articles.to_csv(\"articles.csv\", index=False)\n",
    "print(articles[\"title\"].head())"
   ]
  },
  {
   "cell_type": "code",
   "execution_count": null,
   "metadata": {},
   "outputs": [],
   "source": [
    "# Overwrite sources.csv\n",
    "sources = articles.groupby(\"source_id\").size().reset_index(name=\"count\")\n",
    "sources.to_csv(\"sources.csv\", index=False)"
   ]
  }
 ],
 "metadata": {
  "kernelspec": {
   "display_name": "venv",
   "language": "python",
   "name": "python3"
  },
  "language_info": {
   "codemirror_mode": {
    "name": "ipython",
    "version": 3
   },
   "file_extension": ".py",
   "mimetype": "text/x-python",
   "name": "python",
   "nbconvert_exporter": "python",
   "pygments_lexer": "ipython3",
   "version": "3.12.4"
  }
 },
 "nbformat": 4,
 "nbformat_minor": 2
}
