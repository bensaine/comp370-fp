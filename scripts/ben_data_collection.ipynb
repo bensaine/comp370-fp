{
 "cells": [
  {
   "cell_type": "code",
   "execution_count": 1,
   "metadata": {},
   "outputs": [],
   "source": [
    "import pandas as pd\n",
    "from dotenv import load_dotenv\n",
    "load_dotenv()\n",
    "import os\n",
    "import requests\n",
    "from time import sleep\n",
    "import json\n",
    "from query_articles import query_articles"
   ]
  },
  {
   "cell_type": "code",
   "execution_count": 2,
   "metadata": {},
   "outputs": [],
   "source": [
    "API_KEY = os.getenv(\"NEWS_API_KEY\")"
   ]
  },
  {
   "cell_type": "code",
   "execution_count": 3,
   "metadata": {},
   "outputs": [],
   "source": [
    "def get_sources_id_by_country(country):\n",
    "    url = \"https://newsapi.org/v2/sources\"\n",
    "    response = requests.get(url, params={\"apiKey\": API_KEY, \"country\": country})\n",
    "    response.raise_for_status()\n",
    "    sources = response.json()[\"sources\"]\n",
    "    return [source[\"id\"] for source in sources]"
   ]
  },
  {
   "cell_type": "code",
   "execution_count": 4,
   "metadata": {},
   "outputs": [],
   "source": [
    "# load sources\n",
    "sources = pd.read_csv(\"sources.csv\")\n",
    "# sources from us and ca\n",
    "sources = sources[sources[\"country\"].isin([\"us\", \"ca\"])]\n",
    "sources_id = sources[\"source_id\"].tolist()"
   ]
  },
  {
   "cell_type": "code",
   "execution_count": 7,
   "metadata": {},
   "outputs": [
    {
     "name": "stdout",
     "output_type": "stream",
     "text": [
      "Total query returned 603 articles\n",
      "Cleaning left 603 articles\n",
      "Articles from the following sources were found: ['wired' 'business-insider' 'time' 'abc-news' 'cbc-news' 'cbs-news'\n",
      " 'msnbc' 'usa-today' 'breitbart-news' 'the-verge' 'newsweek' 'fortune'\n",
      " 'nbc-news' 'cnn']\n",
      "Here are the first 5 articles:\n",
      "0    Far-Right Donald Trump Supporters Celebrate Hi...\n",
      "1    ICE Started Ramping Up Its Surveillance Arsena...\n",
      "2    Did you need another reminder that Donald Trum...\n",
      "3    Joe Rogan endorsed Donald Trump, saying Elon M...\n",
      "4    How the US voted in every election, from Georg...\n",
      "Name: title, dtype: object\n"
     ]
    }
   ],
   "source": [
    "query = \"Donald Trump\"\n",
    "\n",
    "articles_first = query_articles(query, API_KEY, sort_by=\"popularity\", nb_pages=5, sources=\",\".join(sources_id), from_date=\"2024-10-29\", to_date=\"2024-11-15\")\n",
    "sleep(15)\n",
    "articles_second = query_articles(query, API_KEY, sort_by=\"popularity\", nb_pages=5, sources=\",\".join(sources_id), from_date=\"2024-11-16\", to_date=\"2024-11-30\")\n",
    "articles = pd.concat([articles_first, articles_second])\n",
    "\n",
    "print(f\"Total query returned {articles.shape[0]} articles\")\n",
    "articles = articles.drop_duplicates()\n",
    "articles = articles[articles[\"source_name\"] != \"[Removed]\"]\n",
    "articles = articles.reset_index(drop=True)\n",
    "\n",
    "print(f\"Cleaning left {articles.shape[0]} articles\")\n",
    "print(f\"Articles from the following sources were found: {articles['source_id'].unique()}\")\n",
    "print(f\"Here are the first 5 articles:\")\n",
    "\n",
    "# DF to csv\n",
    "articles.to_csv(\"articles_raw.csv\", index=False)\n",
    "articles = articles.drop(columns=[\"index\", \"content\", \"url\", \"urlToImage\", \"publishedAt\"])\n",
    "# first 500 articles\n",
    "articles = articles.iloc[:500]\n",
    "articles.to_csv(\"articles.csv\", index=False)\n",
    "print(articles[\"title\"].head())"
   ]
  },
  {
   "cell_type": "code",
   "execution_count": null,
   "metadata": {},
   "outputs": [],
   "source": [
    "# Overwrite sources.csv\n",
    "sources = articles.groupby(\"source_id\").size().reset_index(name=\"count\")\n",
    "sources.to_csv(\"sources.csv\", index=False)"
   ]
  }
 ],
 "metadata": {
  "kernelspec": {
   "display_name": "base",
   "language": "python",
   "name": "python3"
  },
  "language_info": {
   "codemirror_mode": {
    "name": "ipython",
    "version": 3
   },
   "file_extension": ".py",
   "mimetype": "text/x-python",
   "name": "python",
   "nbconvert_exporter": "python",
   "pygments_lexer": "ipython3",
   "version": "3.11.7"
  }
 },
 "nbformat": 4,
 "nbformat_minor": 2
}
